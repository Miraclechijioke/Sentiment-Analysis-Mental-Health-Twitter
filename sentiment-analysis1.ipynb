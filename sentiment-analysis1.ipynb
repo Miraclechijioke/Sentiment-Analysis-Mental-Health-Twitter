{
  "cells": [
    {
      "cell_type": "code",
      "execution_count": 1,
      "metadata": {
        "gather": {
          "logged": 1726743148447
        },
        "colab": {
          "base_uri": "https://localhost:8080/"
        },
        "id": "Hqy1m-UOqbbK",
        "outputId": "ef7d37ce-d6e3-4cd3-b59b-5aa4f52100da"
      },
      "outputs": [
        {
          "output_type": "stream",
          "name": "stdout",
          "text": [
            "Requirement already satisfied: nltk in /usr/local/lib/python3.10/dist-packages (3.8.1)\n",
            "Requirement already satisfied: click in /usr/local/lib/python3.10/dist-packages (from nltk) (8.1.7)\n",
            "Requirement already satisfied: joblib in /usr/local/lib/python3.10/dist-packages (from nltk) (1.4.2)\n",
            "Requirement already satisfied: regex>=2021.8.3 in /usr/local/lib/python3.10/dist-packages (from nltk) (2024.9.11)\n",
            "Requirement already satisfied: tqdm in /usr/local/lib/python3.10/dist-packages (from nltk) (4.66.5)\n"
          ]
        }
      ],
      "source": [
        "pip install nltk"
      ]
    },
    {
      "cell_type": "code",
      "execution_count": 2,
      "metadata": {
        "gather": {
          "logged": 1726743171551
        },
        "jupyter": {
          "outputs_hidden": false,
          "source_hidden": false
        },
        "nteract": {
          "transient": {
            "deleting": false
          }
        },
        "colab": {
          "base_uri": "https://localhost:8080/"
        },
        "id": "dkDHV4joqbbO",
        "outputId": "f8690725-9f3d-4cb2-ec3d-2a178ed939b2"
      },
      "outputs": [
        {
          "output_type": "stream",
          "name": "stderr",
          "text": [
            "[nltk_data] Downloading package stopwords to /root/nltk_data...\n",
            "[nltk_data]   Unzipping corpora/stopwords.zip.\n",
            "[nltk_data] Downloading package wordnet to /root/nltk_data...\n",
            "[nltk_data] Downloading package omw-1.4 to /root/nltk_data...\n"
          ]
        }
      ],
      "source": [
        "# Import the necessary libraries\n",
        "import pandas as pd\n",
        "import re\n",
        "from nltk.corpus import stopwords\n",
        "from nltk.stem import WordNetLemmatizer\n",
        "from tensorflow.keras.preprocessing.text import Tokenizer\n",
        "from tensorflow.keras.preprocessing.sequence import pad_sequences\n",
        "\n",
        "# Ensure nltk resources are available\n",
        "import nltk\n",
        "nltk.download('stopwords')\n",
        "\n",
        "nltk.download('wordnet')\n",
        "nltk.download('omw-1.4')\n",
        "\n",
        "# Initialize the lemmatizer and stop words\n",
        "lemmatizer = WordNetLemmatizer()\n",
        "stop_words = set(stopwords.words('english'))\n",
        "\n",
        "# Custom stop words list with negations retained\n",
        "custom_stop_words = stop_words - {'not', 'no', 'but', 'because'}\n",
        "\n",
        "# Function to preprocess text\n",
        "def preprocess_text(text):\n",
        "    # Convert text to Lowercase\n",
        "    text = text.lower()\n",
        "    # Removing special characters and numbers\n",
        "    text = re.sub(r'[^\\w\\s,.]', '', text)  # Remove punctuation, Keep periods and commas for sentence flow\n",
        "    text = re.sub(r'\\d+', '', text)  # Remove numbers\n",
        "    # Tokenization\n",
        "    tokens = text.split()\n",
        "    # Removing stop words and applying lemmatizer tool\n",
        "    tokens = [lemmatizer.lemmatize(word) for word in tokens if word not in custom_stop_words]\n",
        "    # Rejoin tokens into a single string\n",
        "    text = ' '.join(tokens)\n",
        "    return text"
      ]
    },
    {
      "cell_type": "code",
      "execution_count": 5,
      "metadata": {
        "gather": {
          "logged": 1726743171937
        },
        "jupyter": {
          "outputs_hidden": false,
          "source_hidden": false
        },
        "nteract": {
          "transient": {
            "deleting": false
          }
        },
        "id": "fbFwHpnXqbbP"
      },
      "outputs": [],
      "source": [
        "import pandas as pd\n",
        "df = pd.read_csv('Mental-Health-Twitter.csv', index_col=0)\n"
      ]
    },
    {
      "cell_type": "code",
      "execution_count": 6,
      "metadata": {
        "gather": {
          "logged": 1726743172290
        },
        "jupyter": {
          "outputs_hidden": false,
          "source_hidden": false
        },
        "nteract": {
          "transient": {
            "deleting": false
          }
        },
        "colab": {
          "base_uri": "https://localhost:8080/"
        },
        "id": "Xt2VZ96WqbbQ",
        "outputId": "72874220-1963-46c6-9ea5-3fc5f8a1c453"
      },
      "outputs": [
        {
          "output_type": "execute_result",
          "data": {
            "text/plain": [
              "(20000, 10)"
            ]
          },
          "metadata": {},
          "execution_count": 6
        }
      ],
      "source": [
        "df.shape"
      ]
    },
    {
      "cell_type": "code",
      "execution_count": 7,
      "metadata": {
        "gather": {
          "logged": 1726743172596
        },
        "jupyter": {
          "outputs_hidden": false,
          "source_hidden": false
        },
        "nteract": {
          "transient": {
            "deleting": false
          }
        },
        "colab": {
          "base_uri": "https://localhost:8080/",
          "height": 678
        },
        "id": "mw60zmGrqbbR",
        "outputId": "488709c4-91e8-4bcd-f972-903eceb15e66"
      },
      "outputs": [
        {
          "output_type": "execute_result",
          "data": {
            "text/plain": [
              "              post_id                    post_created  \\\n",
              "0  637894677824413696  Sun Aug 30 07:48:37 +0000 2015   \n",
              "1  637890384576778240  Sun Aug 30 07:31:33 +0000 2015   \n",
              "2  637749345908051968  Sat Aug 29 22:11:07 +0000 2015   \n",
              "3  637696421077123073  Sat Aug 29 18:40:49 +0000 2015   \n",
              "4  637696327485366272  Sat Aug 29 18:40:26 +0000 2015   \n",
              "\n",
              "                                           post_text     user_id  followers  \\\n",
              "0  It's just over 2 years since I was diagnosed w...  1013187241         84   \n",
              "1  It's Sunday, I need a break, so I'm planning t...  1013187241         84   \n",
              "2  Awake but tired. I need to sleep but my brain ...  1013187241         84   \n",
              "3  RT @SewHQ: #Retro bears make perfect gifts and...  1013187241         84   \n",
              "4  It’s hard to say whether packing lists are mak...  1013187241         84   \n",
              "\n",
              "   friends  favourites  statuses  retweets  label  \n",
              "0      211         251       837         0      1  \n",
              "1      211         251       837         1      1  \n",
              "2      211         251       837         0      1  \n",
              "3      211         251       837         2      1  \n",
              "4      211         251       837         1      1  "
            ],
            "text/html": [
              "\n",
              "  <div id=\"df-2b26bc36-0365-4156-b30e-2d98321af061\" class=\"colab-df-container\">\n",
              "    <div>\n",
              "<style scoped>\n",
              "    .dataframe tbody tr th:only-of-type {\n",
              "        vertical-align: middle;\n",
              "    }\n",
              "\n",
              "    .dataframe tbody tr th {\n",
              "        vertical-align: top;\n",
              "    }\n",
              "\n",
              "    .dataframe thead th {\n",
              "        text-align: right;\n",
              "    }\n",
              "</style>\n",
              "<table border=\"1\" class=\"dataframe\">\n",
              "  <thead>\n",
              "    <tr style=\"text-align: right;\">\n",
              "      <th></th>\n",
              "      <th>post_id</th>\n",
              "      <th>post_created</th>\n",
              "      <th>post_text</th>\n",
              "      <th>user_id</th>\n",
              "      <th>followers</th>\n",
              "      <th>friends</th>\n",
              "      <th>favourites</th>\n",
              "      <th>statuses</th>\n",
              "      <th>retweets</th>\n",
              "      <th>label</th>\n",
              "    </tr>\n",
              "  </thead>\n",
              "  <tbody>\n",
              "    <tr>\n",
              "      <th>0</th>\n",
              "      <td>637894677824413696</td>\n",
              "      <td>Sun Aug 30 07:48:37 +0000 2015</td>\n",
              "      <td>It's just over 2 years since I was diagnosed w...</td>\n",
              "      <td>1013187241</td>\n",
              "      <td>84</td>\n",
              "      <td>211</td>\n",
              "      <td>251</td>\n",
              "      <td>837</td>\n",
              "      <td>0</td>\n",
              "      <td>1</td>\n",
              "    </tr>\n",
              "    <tr>\n",
              "      <th>1</th>\n",
              "      <td>637890384576778240</td>\n",
              "      <td>Sun Aug 30 07:31:33 +0000 2015</td>\n",
              "      <td>It's Sunday, I need a break, so I'm planning t...</td>\n",
              "      <td>1013187241</td>\n",
              "      <td>84</td>\n",
              "      <td>211</td>\n",
              "      <td>251</td>\n",
              "      <td>837</td>\n",
              "      <td>1</td>\n",
              "      <td>1</td>\n",
              "    </tr>\n",
              "    <tr>\n",
              "      <th>2</th>\n",
              "      <td>637749345908051968</td>\n",
              "      <td>Sat Aug 29 22:11:07 +0000 2015</td>\n",
              "      <td>Awake but tired. I need to sleep but my brain ...</td>\n",
              "      <td>1013187241</td>\n",
              "      <td>84</td>\n",
              "      <td>211</td>\n",
              "      <td>251</td>\n",
              "      <td>837</td>\n",
              "      <td>0</td>\n",
              "      <td>1</td>\n",
              "    </tr>\n",
              "    <tr>\n",
              "      <th>3</th>\n",
              "      <td>637696421077123073</td>\n",
              "      <td>Sat Aug 29 18:40:49 +0000 2015</td>\n",
              "      <td>RT @SewHQ: #Retro bears make perfect gifts and...</td>\n",
              "      <td>1013187241</td>\n",
              "      <td>84</td>\n",
              "      <td>211</td>\n",
              "      <td>251</td>\n",
              "      <td>837</td>\n",
              "      <td>2</td>\n",
              "      <td>1</td>\n",
              "    </tr>\n",
              "    <tr>\n",
              "      <th>4</th>\n",
              "      <td>637696327485366272</td>\n",
              "      <td>Sat Aug 29 18:40:26 +0000 2015</td>\n",
              "      <td>It’s hard to say whether packing lists are mak...</td>\n",
              "      <td>1013187241</td>\n",
              "      <td>84</td>\n",
              "      <td>211</td>\n",
              "      <td>251</td>\n",
              "      <td>837</td>\n",
              "      <td>1</td>\n",
              "      <td>1</td>\n",
              "    </tr>\n",
              "  </tbody>\n",
              "</table>\n",
              "</div>\n",
              "    <div class=\"colab-df-buttons\">\n",
              "\n",
              "  <div class=\"colab-df-container\">\n",
              "    <button class=\"colab-df-convert\" onclick=\"convertToInteractive('df-2b26bc36-0365-4156-b30e-2d98321af061')\"\n",
              "            title=\"Convert this dataframe to an interactive table.\"\n",
              "            style=\"display:none;\">\n",
              "\n",
              "  <svg xmlns=\"http://www.w3.org/2000/svg\" height=\"24px\" viewBox=\"0 -960 960 960\">\n",
              "    <path d=\"M120-120v-720h720v720H120Zm60-500h600v-160H180v160Zm220 220h160v-160H400v160Zm0 220h160v-160H400v160ZM180-400h160v-160H180v160Zm440 0h160v-160H620v160ZM180-180h160v-160H180v160Zm440 0h160v-160H620v160Z\"/>\n",
              "  </svg>\n",
              "    </button>\n",
              "\n",
              "  <style>\n",
              "    .colab-df-container {\n",
              "      display:flex;\n",
              "      gap: 12px;\n",
              "    }\n",
              "\n",
              "    .colab-df-convert {\n",
              "      background-color: #E8F0FE;\n",
              "      border: none;\n",
              "      border-radius: 50%;\n",
              "      cursor: pointer;\n",
              "      display: none;\n",
              "      fill: #1967D2;\n",
              "      height: 32px;\n",
              "      padding: 0 0 0 0;\n",
              "      width: 32px;\n",
              "    }\n",
              "\n",
              "    .colab-df-convert:hover {\n",
              "      background-color: #E2EBFA;\n",
              "      box-shadow: 0px 1px 2px rgba(60, 64, 67, 0.3), 0px 1px 3px 1px rgba(60, 64, 67, 0.15);\n",
              "      fill: #174EA6;\n",
              "    }\n",
              "\n",
              "    .colab-df-buttons div {\n",
              "      margin-bottom: 4px;\n",
              "    }\n",
              "\n",
              "    [theme=dark] .colab-df-convert {\n",
              "      background-color: #3B4455;\n",
              "      fill: #D2E3FC;\n",
              "    }\n",
              "\n",
              "    [theme=dark] .colab-df-convert:hover {\n",
              "      background-color: #434B5C;\n",
              "      box-shadow: 0px 1px 3px 1px rgba(0, 0, 0, 0.15);\n",
              "      filter: drop-shadow(0px 1px 2px rgba(0, 0, 0, 0.3));\n",
              "      fill: #FFFFFF;\n",
              "    }\n",
              "  </style>\n",
              "\n",
              "    <script>\n",
              "      const buttonEl =\n",
              "        document.querySelector('#df-2b26bc36-0365-4156-b30e-2d98321af061 button.colab-df-convert');\n",
              "      buttonEl.style.display =\n",
              "        google.colab.kernel.accessAllowed ? 'block' : 'none';\n",
              "\n",
              "      async function convertToInteractive(key) {\n",
              "        const element = document.querySelector('#df-2b26bc36-0365-4156-b30e-2d98321af061');\n",
              "        const dataTable =\n",
              "          await google.colab.kernel.invokeFunction('convertToInteractive',\n",
              "                                                    [key], {});\n",
              "        if (!dataTable) return;\n",
              "\n",
              "        const docLinkHtml = 'Like what you see? Visit the ' +\n",
              "          '<a target=\"_blank\" href=https://colab.research.google.com/notebooks/data_table.ipynb>data table notebook</a>'\n",
              "          + ' to learn more about interactive tables.';\n",
              "        element.innerHTML = '';\n",
              "        dataTable['output_type'] = 'display_data';\n",
              "        await google.colab.output.renderOutput(dataTable, element);\n",
              "        const docLink = document.createElement('div');\n",
              "        docLink.innerHTML = docLinkHtml;\n",
              "        element.appendChild(docLink);\n",
              "      }\n",
              "    </script>\n",
              "  </div>\n",
              "\n",
              "\n",
              "<div id=\"df-51c219fd-b1e7-4879-b127-0cf0383f0cb1\">\n",
              "  <button class=\"colab-df-quickchart\" onclick=\"quickchart('df-51c219fd-b1e7-4879-b127-0cf0383f0cb1')\"\n",
              "            title=\"Suggest charts\"\n",
              "            style=\"display:none;\">\n",
              "\n",
              "<svg xmlns=\"http://www.w3.org/2000/svg\" height=\"24px\"viewBox=\"0 0 24 24\"\n",
              "     width=\"24px\">\n",
              "    <g>\n",
              "        <path d=\"M19 3H5c-1.1 0-2 .9-2 2v14c0 1.1.9 2 2 2h14c1.1 0 2-.9 2-2V5c0-1.1-.9-2-2-2zM9 17H7v-7h2v7zm4 0h-2V7h2v10zm4 0h-2v-4h2v4z\"/>\n",
              "    </g>\n",
              "</svg>\n",
              "  </button>\n",
              "\n",
              "<style>\n",
              "  .colab-df-quickchart {\n",
              "      --bg-color: #E8F0FE;\n",
              "      --fill-color: #1967D2;\n",
              "      --hover-bg-color: #E2EBFA;\n",
              "      --hover-fill-color: #174EA6;\n",
              "      --disabled-fill-color: #AAA;\n",
              "      --disabled-bg-color: #DDD;\n",
              "  }\n",
              "\n",
              "  [theme=dark] .colab-df-quickchart {\n",
              "      --bg-color: #3B4455;\n",
              "      --fill-color: #D2E3FC;\n",
              "      --hover-bg-color: #434B5C;\n",
              "      --hover-fill-color: #FFFFFF;\n",
              "      --disabled-bg-color: #3B4455;\n",
              "      --disabled-fill-color: #666;\n",
              "  }\n",
              "\n",
              "  .colab-df-quickchart {\n",
              "    background-color: var(--bg-color);\n",
              "    border: none;\n",
              "    border-radius: 50%;\n",
              "    cursor: pointer;\n",
              "    display: none;\n",
              "    fill: var(--fill-color);\n",
              "    height: 32px;\n",
              "    padding: 0;\n",
              "    width: 32px;\n",
              "  }\n",
              "\n",
              "  .colab-df-quickchart:hover {\n",
              "    background-color: var(--hover-bg-color);\n",
              "    box-shadow: 0 1px 2px rgba(60, 64, 67, 0.3), 0 1px 3px 1px rgba(60, 64, 67, 0.15);\n",
              "    fill: var(--button-hover-fill-color);\n",
              "  }\n",
              "\n",
              "  .colab-df-quickchart-complete:disabled,\n",
              "  .colab-df-quickchart-complete:disabled:hover {\n",
              "    background-color: var(--disabled-bg-color);\n",
              "    fill: var(--disabled-fill-color);\n",
              "    box-shadow: none;\n",
              "  }\n",
              "\n",
              "  .colab-df-spinner {\n",
              "    border: 2px solid var(--fill-color);\n",
              "    border-color: transparent;\n",
              "    border-bottom-color: var(--fill-color);\n",
              "    animation:\n",
              "      spin 1s steps(1) infinite;\n",
              "  }\n",
              "\n",
              "  @keyframes spin {\n",
              "    0% {\n",
              "      border-color: transparent;\n",
              "      border-bottom-color: var(--fill-color);\n",
              "      border-left-color: var(--fill-color);\n",
              "    }\n",
              "    20% {\n",
              "      border-color: transparent;\n",
              "      border-left-color: var(--fill-color);\n",
              "      border-top-color: var(--fill-color);\n",
              "    }\n",
              "    30% {\n",
              "      border-color: transparent;\n",
              "      border-left-color: var(--fill-color);\n",
              "      border-top-color: var(--fill-color);\n",
              "      border-right-color: var(--fill-color);\n",
              "    }\n",
              "    40% {\n",
              "      border-color: transparent;\n",
              "      border-right-color: var(--fill-color);\n",
              "      border-top-color: var(--fill-color);\n",
              "    }\n",
              "    60% {\n",
              "      border-color: transparent;\n",
              "      border-right-color: var(--fill-color);\n",
              "    }\n",
              "    80% {\n",
              "      border-color: transparent;\n",
              "      border-right-color: var(--fill-color);\n",
              "      border-bottom-color: var(--fill-color);\n",
              "    }\n",
              "    90% {\n",
              "      border-color: transparent;\n",
              "      border-bottom-color: var(--fill-color);\n",
              "    }\n",
              "  }\n",
              "</style>\n",
              "\n",
              "  <script>\n",
              "    async function quickchart(key) {\n",
              "      const quickchartButtonEl =\n",
              "        document.querySelector('#' + key + ' button');\n",
              "      quickchartButtonEl.disabled = true;  // To prevent multiple clicks.\n",
              "      quickchartButtonEl.classList.add('colab-df-spinner');\n",
              "      try {\n",
              "        const charts = await google.colab.kernel.invokeFunction(\n",
              "            'suggestCharts', [key], {});\n",
              "      } catch (error) {\n",
              "        console.error('Error during call to suggestCharts:', error);\n",
              "      }\n",
              "      quickchartButtonEl.classList.remove('colab-df-spinner');\n",
              "      quickchartButtonEl.classList.add('colab-df-quickchart-complete');\n",
              "    }\n",
              "    (() => {\n",
              "      let quickchartButtonEl =\n",
              "        document.querySelector('#df-51c219fd-b1e7-4879-b127-0cf0383f0cb1 button');\n",
              "      quickchartButtonEl.style.display =\n",
              "        google.colab.kernel.accessAllowed ? 'block' : 'none';\n",
              "    })();\n",
              "  </script>\n",
              "</div>\n",
              "\n",
              "    </div>\n",
              "  </div>\n"
            ],
            "application/vnd.google.colaboratory.intrinsic+json": {
              "type": "dataframe",
              "variable_name": "df",
              "summary": "{\n  \"name\": \"df\",\n  \"rows\": 20000,\n  \"fields\": [\n    {\n      \"column\": \"post_id\",\n      \"properties\": {\n        \"dtype\": \"number\",\n        \"std\": 170839623650185920,\n        \"min\": 3555966067,\n        \"max\": 819457358145273856,\n        \"num_unique_values\": 19881,\n        \"samples\": [\n          286928178855940096,\n          811771009162354688,\n          818137361733349380\n        ],\n        \"semantic_type\": \"\",\n        \"description\": \"\"\n      }\n    },\n    {\n      \"column\": \"post_created\",\n      \"properties\": {\n        \"dtype\": \"object\",\n        \"num_unique_values\": 19102,\n        \"samples\": [\n          \"Sat Nov 14 17:53:07 +0000 2015\",\n          \"Sat Dec 31 07:35:21 +0000 2016\",\n          \"Thu Jan 05 10:13:13 +0000 2017\"\n        ],\n        \"semantic_type\": \"\",\n        \"description\": \"\"\n      }\n    },\n    {\n      \"column\": \"post_text\",\n      \"properties\": {\n        \"dtype\": \"string\",\n        \"num_unique_values\": 19488,\n        \"samples\": [\n          \"@Megafighter3 Like..we weren't even arguing about anything. I was just being silly and she thought I was being condescending.\",\n          \"Eating healthy makes you feel so good about yourself\\ud83d\\ude1c\\ud83c\\udf49\\ud83c\\udf53\\ud83c\\udf52\\ud83c\\udf4d\",\n          \"In Opinion: What Trump should say but won\\u2019t about Putin\\u2019s election cyberhack https://t.co/VKWeSn9mOC   I'm dreaming, where the voices, loud!\"\n        ],\n        \"semantic_type\": \"\",\n        \"description\": \"\"\n      }\n    },\n    {\n      \"column\": \"user_id\",\n      \"properties\": {\n        \"dtype\": \"number\",\n        \"std\": 160608332086080448,\n        \"min\": 14724376,\n        \"max\": 763182466098233344,\n        \"num_unique_values\": 72,\n        \"samples\": [\n          2660477449,\n          2369443141,\n          377696171\n        ],\n        \"semantic_type\": \"\",\n        \"description\": \"\"\n      }\n    },\n    {\n      \"column\": \"followers\",\n      \"properties\": {\n        \"dtype\": \"number\",\n        \"std\": 1899,\n        \"min\": 0,\n        \"max\": 28614,\n        \"num_unique_values\": 69,\n        \"samples\": [\n          104,\n          84,\n          434\n        ],\n        \"semantic_type\": \"\",\n        \"description\": \"\"\n      }\n    },\n    {\n      \"column\": \"friends\",\n      \"properties\": {\n        \"dtype\": \"number\",\n        \"std\": 1834,\n        \"min\": 0,\n        \"max\": 28514,\n        \"num_unique_values\": 70,\n        \"samples\": [\n          247,\n          211,\n          988\n        ],\n        \"semantic_type\": \"\",\n        \"description\": \"\"\n      }\n    },\n    {\n      \"column\": \"favourites\",\n      \"properties\": {\n        \"dtype\": \"number\",\n        \"std\": 8393,\n        \"min\": 0,\n        \"max\": 39008,\n        \"num_unique_values\": 66,\n        \"samples\": [\n          704,\n          2228,\n          251\n        ],\n        \"semantic_type\": \"\",\n        \"description\": \"\"\n      }\n    },\n    {\n      \"column\": \"statuses\",\n      \"properties\": {\n        \"dtype\": \"number\",\n        \"std\": 140778,\n        \"min\": 3,\n        \"max\": 1063601,\n        \"num_unique_values\": 71,\n        \"samples\": [\n          1300,\n          837,\n          6694\n        ],\n        \"semantic_type\": \"\",\n        \"description\": \"\"\n      }\n    },\n    {\n      \"column\": \"retweets\",\n      \"properties\": {\n        \"dtype\": \"number\",\n        \"std\": 15119,\n        \"min\": 0,\n        \"max\": 839540,\n        \"num_unique_values\": 1706,\n        \"samples\": [\n          42,\n          733,\n          128574\n        ],\n        \"semantic_type\": \"\",\n        \"description\": \"\"\n      }\n    },\n    {\n      \"column\": \"label\",\n      \"properties\": {\n        \"dtype\": \"number\",\n        \"std\": 0,\n        \"min\": 0,\n        \"max\": 1,\n        \"num_unique_values\": 2,\n        \"samples\": [\n          0,\n          1\n        ],\n        \"semantic_type\": \"\",\n        \"description\": \"\"\n      }\n    }\n  ]\n}"
            }
          },
          "metadata": {},
          "execution_count": 7
        }
      ],
      "source": [
        "df.head()"
      ]
    },
    {
      "cell_type": "code",
      "execution_count": 8,
      "metadata": {
        "gather": {
          "logged": 1726743176482
        },
        "jupyter": {
          "outputs_hidden": false,
          "source_hidden": false
        },
        "nteract": {
          "transient": {
            "deleting": false
          }
        },
        "colab": {
          "base_uri": "https://localhost:8080/"
        },
        "id": "Y75HNvFnqbbT",
        "outputId": "883f2694-3fec-4fa5-e878-d8f3e9d42cf9"
      },
      "outputs": [
        {
          "output_type": "stream",
          "name": "stdout",
          "text": [
            "Average length of reviews: 8\n"
          ]
        }
      ],
      "source": [
        "# Import necessary libraries\n",
        "import numpy as np\n",
        "from sklearn.model_selection import train_test_split\n",
        "from tensorflow.keras.preprocessing import sequence\n",
        "from tensorflow.keras.utils import to_categorical\n",
        "\n",
        "# Load your dataset\n",
        "data = pd.read_csv('Mental-Health-Twitter.csv', index_col=0)\n",
        "texts = data['post_text'].apply(preprocess_text)  # Apply preprocessing\n",
        "labels = data['label']\n",
        "\n",
        "labels = np.array(labels)\n",
        "# labels = to_categorical(labels, num_classes=2)\n",
        "\n",
        "# Apply preprocessing\n",
        "# processed_texts = texts.apply(preprocess_text)\n",
        "\n",
        "# Calculate the length of each processed text\n",
        "lengths = texts.apply(lambda x: len(x.split()))\n",
        "\n",
        "# Calculate the average length\n",
        "average_length = round(lengths.mean())\n",
        "\n",
        "print(f\"Average length of reviews: {average_length}\")\n",
        "\n",
        "# Split the dataset\n",
        "x_train, x_test, y_train, y_test = train_test_split(texts, labels, test_size=0.3, random_state=42, stratify=labels)\n",
        "\n",
        "# Tokenization and Padding\n",
        "max_features = 10000  # Number of unique words to keep\n",
        "maxlen = average_length * 2  # Maximum length of sequences\n",
        "\n",
        "tokenizer = Tokenizer(num_words=max_features)\n",
        "tokenizer.fit_on_texts(x_train)\n",
        "x_train_sequences = tokenizer.texts_to_sequences(x_train)\n",
        "x_test_sequences = tokenizer.texts_to_sequences(x_test)\n",
        "\n",
        "x_train_padded = pad_sequences(x_train_sequences, maxlen=maxlen)\n",
        "x_test_padded = pad_sequences(x_test_sequences, maxlen=maxlen)"
      ]
    },
    {
      "cell_type": "code",
      "execution_count": 9,
      "metadata": {
        "gather": {
          "logged": 1726743176784
        },
        "jupyter": {
          "outputs_hidden": false,
          "source_hidden": false
        },
        "nteract": {
          "transient": {
            "deleting": false
          }
        },
        "colab": {
          "base_uri": "https://localhost:8080/",
          "height": 458
        },
        "id": "elHxz4phqbbV",
        "outputId": "468e95d9-e671-476b-b0b5-5e6e36ae35a0"
      },
      "outputs": [
        {
          "output_type": "execute_result",
          "data": {
            "text/plain": [
              "10227    rt bonmotvivant lili reinhart say betty veroni...\n",
              "6597     nativeandnaive legendxofxzach one time freshma...\n",
              "6355     zaynmalik dont forget belong zayn, heart milli...\n",
              "14190                         battlafield baba_khan uh huh\n",
              "8059     rt historyinpics mcdonalds menu early httpt.co...\n",
              "                               ...                        \n",
              "335      kid screen electronics addiction httpst.corwcx...\n",
              "4235     gradingus would answered yes say specify sausa...\n",
              "1617     toda adventure natural option depression easie...\n",
              "1815     annie testing help sufferer depressive disorde...\n",
              "13728                                          friend dead\n",
              "Name: post_text, Length: 14000, dtype: object"
            ],
            "text/html": [
              "<div>\n",
              "<style scoped>\n",
              "    .dataframe tbody tr th:only-of-type {\n",
              "        vertical-align: middle;\n",
              "    }\n",
              "\n",
              "    .dataframe tbody tr th {\n",
              "        vertical-align: top;\n",
              "    }\n",
              "\n",
              "    .dataframe thead th {\n",
              "        text-align: right;\n",
              "    }\n",
              "</style>\n",
              "<table border=\"1\" class=\"dataframe\">\n",
              "  <thead>\n",
              "    <tr style=\"text-align: right;\">\n",
              "      <th></th>\n",
              "      <th>post_text</th>\n",
              "    </tr>\n",
              "  </thead>\n",
              "  <tbody>\n",
              "    <tr>\n",
              "      <th>10227</th>\n",
              "      <td>rt bonmotvivant lili reinhart say betty veroni...</td>\n",
              "    </tr>\n",
              "    <tr>\n",
              "      <th>6597</th>\n",
              "      <td>nativeandnaive legendxofxzach one time freshma...</td>\n",
              "    </tr>\n",
              "    <tr>\n",
              "      <th>6355</th>\n",
              "      <td>zaynmalik dont forget belong zayn, heart milli...</td>\n",
              "    </tr>\n",
              "    <tr>\n",
              "      <th>14190</th>\n",
              "      <td>battlafield baba_khan uh huh</td>\n",
              "    </tr>\n",
              "    <tr>\n",
              "      <th>8059</th>\n",
              "      <td>rt historyinpics mcdonalds menu early httpt.co...</td>\n",
              "    </tr>\n",
              "    <tr>\n",
              "      <th>...</th>\n",
              "      <td>...</td>\n",
              "    </tr>\n",
              "    <tr>\n",
              "      <th>335</th>\n",
              "      <td>kid screen electronics addiction httpst.corwcx...</td>\n",
              "    </tr>\n",
              "    <tr>\n",
              "      <th>4235</th>\n",
              "      <td>gradingus would answered yes say specify sausa...</td>\n",
              "    </tr>\n",
              "    <tr>\n",
              "      <th>1617</th>\n",
              "      <td>toda adventure natural option depression easie...</td>\n",
              "    </tr>\n",
              "    <tr>\n",
              "      <th>1815</th>\n",
              "      <td>annie testing help sufferer depressive disorde...</td>\n",
              "    </tr>\n",
              "    <tr>\n",
              "      <th>13728</th>\n",
              "      <td>friend dead</td>\n",
              "    </tr>\n",
              "  </tbody>\n",
              "</table>\n",
              "<p>14000 rows × 1 columns</p>\n",
              "</div><br><label><b>dtype:</b> object</label>"
            ]
          },
          "metadata": {},
          "execution_count": 9
        }
      ],
      "source": [
        "x_train"
      ]
    },
    {
      "cell_type": "code",
      "execution_count": 13,
      "metadata": {
        "gather": {
          "logged": 1726743225462
        },
        "jupyter": {
          "outputs_hidden": false,
          "source_hidden": false
        },
        "nteract": {
          "transient": {
            "deleting": false
          }
        },
        "colab": {
          "base_uri": "https://localhost:8080/"
        },
        "id": "Xmulok0TqbbW",
        "outputId": "2af2d295-3506-4ec1-c4c2-d5ee53337377"
      },
      "outputs": [
        {
          "output_type": "stream",
          "name": "stdout",
          "text": [
            "Epoch 1/8\n",
            "\u001b[1m438/438\u001b[0m \u001b[32m━━━━━━━━━━━━━━━━━━━━\u001b[0m\u001b[37m\u001b[0m \u001b[1m22s\u001b[0m 40ms/step - accuracy: 0.7316 - loss: 0.4997 - precision_1: 0.7122 - recall_1: 0.8398 - val_accuracy: 0.8705 - val_loss: 0.2763 - val_precision_1: 0.8729 - val_recall_1: 0.8673\n",
            "Epoch 2/8\n",
            "\u001b[1m438/438\u001b[0m \u001b[32m━━━━━━━━━━━━━━━━━━━━\u001b[0m\u001b[37m\u001b[0m \u001b[1m16s\u001b[0m 37ms/step - accuracy: 0.9385 - loss: 0.1547 - precision_1: 0.9361 - recall_1: 0.9428 - val_accuracy: 0.8762 - val_loss: 0.2653 - val_precision_1: 0.8858 - val_recall_1: 0.8637\n",
            "Epoch 3/8\n",
            "\u001b[1m438/438\u001b[0m \u001b[32m━━━━━━━━━━━━━━━━━━━━\u001b[0m\u001b[37m\u001b[0m \u001b[1m28s\u001b[0m 54ms/step - accuracy: 0.9679 - loss: 0.0849 - precision_1: 0.9690 - recall_1: 0.9661 - val_accuracy: 0.8735 - val_loss: 0.3559 - val_precision_1: 0.8813 - val_recall_1: 0.8633\n",
            "Epoch 4/8\n",
            "\u001b[1m438/438\u001b[0m \u001b[32m━━━━━━━━━━━━━━━━━━━━\u001b[0m\u001b[37m\u001b[0m \u001b[1m16s\u001b[0m 36ms/step - accuracy: 0.9816 - loss: 0.0527 - precision_1: 0.9825 - recall_1: 0.9805 - val_accuracy: 0.8688 - val_loss: 0.4025 - val_precision_1: 0.8767 - val_recall_1: 0.8583\n",
            "Epoch 5/8\n",
            "\u001b[1m438/438\u001b[0m \u001b[32m━━━━━━━━━━━━━━━━━━━━\u001b[0m\u001b[37m\u001b[0m \u001b[1m20s\u001b[0m 36ms/step - accuracy: 0.9856 - loss: 0.0398 - precision_1: 0.9873 - recall_1: 0.9842 - val_accuracy: 0.8680 - val_loss: 0.4965 - val_precision_1: 0.8768 - val_recall_1: 0.8563\n",
            "Epoch 6/8\n",
            "\u001b[1m438/438\u001b[0m \u001b[32m━━━━━━━━━━━━━━━━━━━━\u001b[0m\u001b[37m\u001b[0m \u001b[1m27s\u001b[0m 51ms/step - accuracy: 0.9886 - loss: 0.0329 - precision_1: 0.9913 - recall_1: 0.9858 - val_accuracy: 0.8675 - val_loss: 0.4941 - val_precision_1: 0.8803 - val_recall_1: 0.8507\n"
          ]
        }
      ],
      "source": [
        "from tensorflow.keras import layers, models\n",
        "from tensorflow.keras.metrics import Precision, Recall\n",
        "from tensorflow.keras.callbacks import EarlyStopping\n",
        "\n",
        "early_stopping = EarlyStopping(\n",
        "    monitor='val_loss',    # Watch the validation loss\n",
        "    patience=4,            # Stop after 4 epochs of no improvement\n",
        "    restore_best_weights=True  # Revert to the best model\n",
        ")\n",
        "\n",
        "# Build the LSTM model\n",
        "model = models.Sequential([\n",
        "    layers.Embedding(input_dim=max_features, output_dim=128),\n",
        "    layers.LSTM(64, return_sequences=True),\n",
        "    layers.LSTM(32),\n",
        "    layers.Dense(1, activation='sigmoid') #It outputs a value between 0 and 1, representing the probability that the input belongs to the positive class.\n",
        "])\n",
        "\n",
        "# Compile the model\n",
        "model.compile(optimizer='adam',\n",
        "              loss='binary_crossentropy',\n",
        "              metrics=['accuracy', Precision(), Recall()])\n",
        "\n",
        "# Train the model\n",
        "history = model.fit(x_train_padded, y_train, epochs=8, validation_data=(x_test_padded, y_test), callbacks=[early_stopping])"
      ]
    },
    {
      "cell_type": "code",
      "execution_count": 14,
      "metadata": {
        "gather": {
          "logged": 1726743226087
        },
        "jupyter": {
          "outputs_hidden": false,
          "source_hidden": false
        },
        "nteract": {
          "transient": {
            "deleting": false
          }
        },
        "colab": {
          "base_uri": "https://localhost:8080/"
        },
        "id": "Bt-NXDbdqbbX",
        "outputId": "f66b415b-7dba-4bb3-9eb4-4a48ff19f2ea"
      },
      "outputs": [
        {
          "output_type": "stream",
          "name": "stdout",
          "text": [
            "188/188 - 2s - 8ms/step - accuracy: 0.8762 - loss: 0.2653 - precision_1: 0.8858 - recall_1: 0.8637\n",
            "Test loss: 0.2653316557407379\n",
            "Test accuracy: 0.8761666417121887\n",
            "Test precision: 0.885811984539032\n",
            "Test recall: 0.8636666536331177\n"
          ]
        }
      ],
      "source": [
        "# Evaluate the model and unpack all values\n",
        "results = model.evaluate(x_test_padded, y_test, verbose=2)\n",
        "test_loss = results[0]\n",
        "test_acc = results[1]\n",
        "test_precision = results[2]\n",
        "test_recall = results[3]\n",
        "\n",
        "print(f\"Test loss: {test_loss}\")\n",
        "print(f\"Test accuracy: {test_acc}\")\n",
        "print(f\"Test precision: {test_precision}\")\n",
        "print(f\"Test recall: {test_recall}\")\n"
      ]
    },
    {
      "cell_type": "code",
      "execution_count": 15,
      "metadata": {
        "gather": {
          "logged": 1726743227362
        },
        "jupyter": {
          "outputs_hidden": false,
          "source_hidden": false
        },
        "nteract": {
          "transient": {
            "deleting": false
          }
        },
        "colab": {
          "base_uri": "https://localhost:8080/"
        },
        "id": "Zh0uCaY3qbbY",
        "outputId": "00e447f5-1b3d-4f69-d793-227d38dc3150"
      },
      "outputs": [
        {
          "output_type": "stream",
          "name": "stdout",
          "text": [
            "\u001b[1m188/188\u001b[0m \u001b[32m━━━━━━━━━━━━━━━━━━━━\u001b[0m\u001b[37m\u001b[0m \u001b[1m2s\u001b[0m 12ms/step\n",
            "Classification Report:\n",
            "              precision    recall  f1-score   support\n",
            "\n",
            "           0       0.87      0.89      0.88      3000\n",
            "           1       0.89      0.86      0.87      3000\n",
            "\n",
            "    accuracy                           0.88      6000\n",
            "   macro avg       0.88      0.88      0.88      6000\n",
            "weighted avg       0.88      0.88      0.88      6000\n",
            "\n",
            "Confusion Matrix:\n",
            "[[2666  334]\n",
            " [ 409 2591]]\n"
          ]
        }
      ],
      "source": [
        "from sklearn.metrics import classification_report, confusion_matrix\n",
        "\n",
        "# Get predictions for classification metrics\n",
        "y_pred = (model.predict(x_test_padded) > 0.5).astype(\"int32\")  # Convert probabilities to 0 or 1\n",
        "\n",
        "# Calculate Precision, Recall, and F1-Score\n",
        "print(\"Classification Report:\")\n",
        "print(classification_report(y_test, y_pred))\n",
        "\n",
        "# Calculate Confusion Matrix\n",
        "print(\"Confusion Matrix:\")\n",
        "print(confusion_matrix(y_test, y_pred))\n"
      ]
    },
    {
      "cell_type": "code",
      "source": [
        "from tensorflow.keras.models import load_model\n",
        "\n",
        "# Save the model\n",
        "model.save('sent_model.keras')  # or 'my_model' for the TensorFlow SavedModel format\n",
        "\n",
        "# Load the model\n",
        "\n",
        "model = load_model('sent_model.keras')\n"
      ],
      "metadata": {
        "colab": {
          "base_uri": "https://localhost:8080/"
        },
        "id": "popdIuz5rKDn",
        "outputId": "2d6040d3-93bc-4ed3-8dd7-ede15180def3"
      },
      "execution_count": 17,
      "outputs": [
        {
          "output_type": "stream",
          "name": "stderr",
          "text": [
            "/usr/local/lib/python3.10/dist-packages/keras/src/saving/saving_lib.py:576: UserWarning: Skipping variable loading for optimizer 'adam', because it has 20 variables whereas the saved optimizer has 2 variables. \n",
            "  saveable.load_own_variables(weights_store.get(inner_path))\n"
          ]
        }
      ]
    },
    {
      "cell_type": "code",
      "source": [
        "# Test loaded Model\n",
        "# Get predictions for classification metrics\n",
        "y_pred = (model.predict(x_test_padded) > 0.5).astype(\"int32\")  # Convert probabilities to 0 or 1\n",
        "\n",
        "# Calculate Precision, Recall, and F1-Score\n",
        "print(\"Classification Report:\")\n",
        "print(classification_report(y_test, y_pred))\n",
        "\n",
        "# Calculate Confusion Matrix\n",
        "print(\"Confusion Matrix:\")\n",
        "print(confusion_matrix(y_test, y_pred))\n"
      ],
      "metadata": {
        "colab": {
          "base_uri": "https://localhost:8080/"
        },
        "id": "xBOKb_HLsZnr",
        "outputId": "9989647e-c908-4b61-97fe-74e30c04a3b4"
      },
      "execution_count": 19,
      "outputs": [
        {
          "output_type": "stream",
          "name": "stdout",
          "text": [
            "\u001b[1m188/188\u001b[0m \u001b[32m━━━━━━━━━━━━━━━━━━━━\u001b[0m\u001b[37m\u001b[0m \u001b[1m2s\u001b[0m 10ms/step\n",
            "Classification Report:\n",
            "              precision    recall  f1-score   support\n",
            "\n",
            "           0       0.87      0.89      0.88      3000\n",
            "           1       0.89      0.86      0.87      3000\n",
            "\n",
            "    accuracy                           0.88      6000\n",
            "   macro avg       0.88      0.88      0.88      6000\n",
            "weighted avg       0.88      0.88      0.88      6000\n",
            "\n",
            "Confusion Matrix:\n",
            "[[2666  334]\n",
            " [ 409 2591]]\n"
          ]
        }
      ]
    }
  ],
  "metadata": {
    "kernel_info": {
      "name": "python310-sdkv2"
    },
    "kernelspec": {
      "display_name": "Python 3 (ipykernel)",
      "language": "python",
      "name": "python3"
    },
    "language_info": {
      "codemirror_mode": {
        "name": "ipython",
        "version": 3
      },
      "file_extension": ".py",
      "mimetype": "text/x-python",
      "name": "python",
      "nbconvert_exporter": "python",
      "pygments_lexer": "ipython3",
      "version": "3.11.5"
    },
    "microsoft": {
      "host": {
        "AzureML": {
          "notebookHasBeenCompleted": true
        }
      },
      "ms_spell_check": {
        "ms_spell_check_language": "en"
      }
    },
    "nteract": {
      "version": "nteract-front-end@1.0.0"
    },
    "colab": {
      "provenance": []
    }
  },
  "nbformat": 4,
  "nbformat_minor": 0
}